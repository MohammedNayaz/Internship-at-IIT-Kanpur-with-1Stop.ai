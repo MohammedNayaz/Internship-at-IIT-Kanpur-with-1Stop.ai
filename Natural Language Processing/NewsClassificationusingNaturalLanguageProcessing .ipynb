{
"cells": [
{
"cell_type": "code",
"execution_count": 1,
"metadata": {
"colab": {
"base_uri": "https://localhost:8080/"
},
"id": "lLs-VPHuSAMv",
"outputId": "50ad0f6a-181a-47d6-a15b-5471d9f63856"
},
"outputs": [
{
"name": "stdout",
"output_type": "stream",
"text": [
"Requirement already satisfied: nltk in c:\\users\\jahnavi\\anaconda3\\lib\\site-packages (3.4)\n",
"Requirement already satisfied: six in c:\\users\\jahnavi\\anaconda3\\lib\\site-packages (from nltk) (1.15.0)\n",
"Requirement already satisfied: singledispatch in c:\\users\\jahnavi\\anaconda3\\lib\\site-packages (from nltk) (3.4.0.3)\n",
"Note: you may need to restart the kernel to use updated packages.\n"
]
}
],
"source": [
"pip install nltk"
]
},
{
"cell_type": "code",
"execution_count": 2,
"metadata": {},
"outputs": [],
"source": [
"import nltk"
]
},
{
"cell_type": "code",
"execution_count": 3,
"metadata": {},
"outputs": [
{
"name": "stderr",
"output_type": "stream",
"text": [
"[nltk_data] Downloading package punkt to\n",
"[nltk_data]     C:\\Users\\JAHNAVI\\AppData\\Roaming\\nltk_data...\n",
"[nltk_data]   Package punkt is already up-to-date!\n"
]
},
{
"data": {
"text/plain": [
"True"
]
},
"execution_count": 3,
"metadata": {},
"output_type": "execute_result"
}
],
"source": [
"nltk.download('punkt')"
]
},
{
"cell_type": "code",
"execution_count": 4,
"metadata": {
"id": "laUrBDShPKz2"
},
"outputs": [],
"source": [
"import pandas as pd"
]
},
{
"cell_type": "code",
"execution_count": 5,
"metadata": {
"id": "t7TV7oqHPKz8"
},
"outputs": [],
"source": [
"fake = pd.read_csv(\"Fake.csv\")\n",
"genuine = pd.read_csv(\"True.csv\")"
]
},
{
"cell_type": "code",
"execution_count": 6,
"metadata": {
"colab": {
"base_uri": "https://localhost:8080/",
"height": 195
},
"id": "PReQdJXVPKz-",
"outputId": "e7886e02-0fc5-4971-aa63-c6e8a941f6d9"
},
"outputs": [
{
"name": "stdout",
"output_type": "stream",
"text": [
"<class 'pandas.core.frame.DataFrame'>\n",
"RangeIndex: 23481 entries, 0 to 23480\n",
"Data columns (total 4 columns):\n",
" #   Column   Non-Null Count  Dtype \n",
"---  ------   --------------  ----- \n",
" 0   title    23481 non-null  object\n",
" 1   text     23481 non-null  object\n",
" 2   subject  23481 non-null  object\n",
" 3   date     23481 non-null  object\n",
"dtypes: object(4)\n",
"memory usage: 733.9+ KB\n"
]
},
{
"data": {
"text/plain": [
"None"
]
},
"metadata": {},
"output_type": "display_data"
},
{
"name": "stdout",
"output_type": "stream",
"text": [
"<class 'pandas.core.frame.DataFrame'>\n",
"RangeIndex: 21417 entries, 0 to 21416\n",
"Data columns (total 4 columns):\n",
" #   Column   Non-Null Count  Dtype \n",
"---  ------   --------------  ----- \n",
" 0   title    21417 non-null  object\n",
" 1   text     21417 non-null  object\n",
" 2   subject  21417 non-null  object\n",
" 3   date     21417 non-null  object\n",
"dtypes: object(4)\n",
"memory usage: 669.4+ KB\n"
]
},
{
"data": {
"text/plain": [
"None"
]
},
"metadata": {},
"output_type": "display_data"
}
],
"source": [
"display(fake.info())\n",
"display(genuine.info())"
]
},
{
"cell_type": "code",
"execution_count": 7,
"metadata": {
"colab": {
"base_uri": "https://localhost:8080/",
"height": 195
},
"id": "pbi-PDY2PK0A",
"outputId": "603446c5-aeed-47c0-80aa-fb1997236f24"
},
"outputs": [
{
"data": {
"text/html": [
"<div>\n",
"<style scoped>\n",
"    .dataframe tbody tr th:only-of-type {\n",
"        vertical-align: middle;\n",
"    }\n",
"\n",
"    .dataframe tbody tr th {\n",
"        vertical-align: top;\n",
"    }\n",
"\n",
"    .dataframe thead th {\n",
"        text-align: right;\n",
"    }\n",
"</style>\n",
"<table border=\"1\" class=\"dataframe\">\n",
"  <thead>\n",
"    <tr style=\"text-align: right;\">\n",
"      <th></th>\n",
"      <th>title</th>\n",
"      <th>text</th>\n",
"      <th>subject</th>\n",
"      <th>date</th>\n",
"    </tr>\n",
"  </thead>\n",
"  <tbody>\n",
"    <tr>\n",
"      <th>0</th>\n",
"      <td>Donald Trump Sends Out Embarrassing New Year’...</td>\n",
"      <td>Donald Trump just couldn t wish all Americans ...</td>\n",
"      <td>News</td>\n",
"      <td>December 31, 2017</td>\n",
"    </tr>\n",
"    <tr>\n",
"      <th>1</th>\n",
"      <td>Drunk Bragging Trump Staffer Started Russian ...</td>\n",
"      <td>House Intelligence Committee Chairman Devin Nu...</td>\n",
"      <td>News</td>\n",
"      <td>December 31, 2017</td>\n",
"    </tr>\n",
"    <tr>\n",
"      <th>2</th>\n",
"      <td>Sheriff David Clarke Becomes An Internet Joke...</td>\n",
"      <td>On Friday, it was revealed that former Milwauk...</td>\n",
"      <td>News</td>\n",
"      <td>December 30, 2017</td>\n",
"    </tr>\n",
"    <tr>\n",
"      <th>3</th>\n",
"      <td>Trump Is So Obsessed He Even Has Obama’s Name...</td>\n",
"      <td>On Christmas day, Donald Trump announced that ...</td>\n",
"      <td>News</td>\n",
"      <td>December 29, 2017</td>\n",
"    </tr>\n",
"    <tr>\n",
"      <th>4</th>\n",
"      <td>Pope Francis Just Called Out Donald Trump Dur...</td>\n",
"      <td>Pope Francis used his annual Christmas Day mes...</td>\n",
"      <td>News</td>\n",
"      <td>December 25, 2017</td>\n",
"    </tr>\n",
"  </tbody>\n",
"</table>\n",
"</div>"
],
"text/plain": [
"                                               title  \\\n",
"0   Donald Trump Sends Out Embarrassing New Year’...   \n",
"1   Drunk Bragging Trump Staffer Started Russian ...   \n",
"2   Sheriff David Clarke Becomes An Internet Joke...   \n",
"3   Trump Is So Obsessed He Even Has Obama’s Name...   \n",
"4   Pope Francis Just Called Out Donald Trump Dur...   \n",
"\n",
"                                                text subject  \\\n",
"0  Donald Trump just couldn t wish all Americans ...    News   \n",
"1  House Intelligence Committee Chairman Devin Nu...    News   \n",
"2  On Friday, it was revealed that former Milwauk...    News   \n",
"3  On Christmas day, Donald Trump announced that ...    News   \n",
"4  Pope Francis used his annual Christmas Day mes...    News   \n",
"\n",
"                date  \n",
"0  December 31, 2017  \n",
"1  December 31, 2017  \n",
"2  December 30, 2017  \n",
"3  December 29, 2017  \n",
"4  December 25, 2017  "
]
},
"metadata": {},
"output_type": "display_data"
},
{
"data": {
"text/html": [
"<div>\n",
"<style scoped>\n",
"    .dataframe tbody tr th:only-of-type {\n",
"        vertical-align: middle;\n",
"    }\n",
"\n",
"    .dataframe tbody tr th {\n",
"        vertical-align: top;\n",
"    }\n",
"\n",
"    .dataframe thead th {\n",
"        text-align: right;\n",
"    }\n",
"</style>\n",
"<table border=\"1\" class=\"dataframe\">\n",
"  <thead>\n",
"    <tr style=\"text-align: right;\">\n",
"      <th></th>\n",
"      <th>title</th>\n",
"      <th>text</th>\n",
"      <th>subject</th>\n",
"      <th>date</th>\n",
"    </tr>\n",
"  </thead>\n",
"  <tbody>\n",
"    <tr>\n",
"      <th>0</th>\n",
"      <td>As U.S. budget fight looms, Republicans flip t...</td>\n",
"      <td>WASHINGTON (Reuters) - The head of a conservat...</td>\n",
"      <td>politicsNews</td>\n",
"      <td>December 31, 2017</td>\n",
"    </tr>\n",
"    <tr>\n",
"      <th>1</th>\n",
"      <td>U.S. military to accept transgender recruits o...</td>\n",
"      <td>WASHINGTON (Reuters) - Transgender people will...</td>\n",
"      <td>politicsNews</td>\n",
"      <td>December 29, 2017</td>\n",
"    </tr>\n",
"    <tr>\n",
"      <th>2</th>\n",
"      <td>Senior U.S. Republican senator: 'Let Mr. Muell...</td>\n",
"      <td>WASHINGTON (Reuters) - The special counsel inv...</td>\n",
"      <td>politicsNews</td>\n",
"      <td>December 31, 2017</td>\n",
"    </tr>\n",
"    <tr>\n",
"      <th>3</th>\n",
"      <td>FBI Russia probe helped by Australian diplomat...</td>\n",
"      <td>WASHINGTON (Reuters) - Trump campaign adviser ...</td>\n",
"      <td>politicsNews</td>\n",
"      <td>December 30, 2017</td>\n",
"    </tr>\n",
"    <tr>\n",
"      <th>4</th>\n",
"      <td>Trump wants Postal Service to charge 'much mor...</td>\n",
"      <td>SEATTLE/WASHINGTON (Reuters) - President Donal...</td>\n",
"      <td>politicsNews</td>\n",
"      <td>December 29, 2017</td>\n",
"    </tr>\n",
"  </tbody>\n",
"</table>\n",
"</div>"
],
"text/plain": [
"                                               title  \\\n",
"0  As U.S. budget fight looms, Republicans flip t...   \n",
"1  U.S. military to accept transgender recruits o...   \n",
"2  Senior U.S. Republican senator: 'Let Mr. Muell...   \n",
"3  FBI Russia probe helped by Australian diplomat...   \n",
"4  Trump wants Postal Service to charge 'much mor...   \n",
"\n",
"                                                text       subject  \\\n",
"0  WASHINGTON (Reuters) - The head of a conservat...  politicsNews   \n",
"1  WASHINGTON (Reuters) - Transgender people will...  politicsNews   \n",
"2  WASHINGTON (Reuters) - The special counsel inv...  politicsNews   \n",
"3  WASHINGTON (Reuters) - Trump campaign adviser ...  politicsNews   \n",
"4  SEATTLE/WASHINGTON (Reuters) - President Donal...  politicsNews   \n",
"\n",
"                 date  \n",
"0  December 31, 2017   \n",
"1  December 29, 2017   \n",
"2  December 31, 2017   \n",
"3  December 30, 2017   \n",
"4  December 29, 2017   "
]
},
"metadata": {},
"output_type": "display_data"
}
],
"source": [
"display(fake.head())\n",
"display(genuine.head())"
]
},
{
"cell_type": "code",
"execution_count": 8,
"metadata": {
"colab": {
"base_uri": "https://localhost:8080/",
"height": 218
},
"id": "Qd2b1IuXPK0F",
"outputId": "540c350a-c749-492a-f461-11569cb1de59"
},
"outputs": [
{
"data": {
"text/plain": [
"News               9050\n",
"politics           6841\n",
"left-news          4459\n",
"Government News    1570\n",
"US_News             783\n",
"Middle-east         778\n",
"Name: subject, dtype: int64"
]
},
"metadata": {},
"output_type": "display_data"
},
{
"name": "stdout",
"output_type": "stream",
"text": [
"\n",
"\n"
]
},
{
"data": {
"text/plain": [
"politicsNews    11272\n",
"worldnews       10145\n",
"Name: subject, dtype: int64"
]
},
"metadata": {},
"output_type": "display_data"
}
],
"source": [
"display(fake.subject.value_counts())\n",
"print('\\n')\n",
"display(genuine.subject.value_counts())"
]
},
{
"cell_type": "code",
"execution_count": 9,
"metadata": {
"id": "1YFokDMfPK0H"
},
"outputs": [],
"source": [
"fake['target'] = 0\n",
"genuine['target'] = 1"
]
},
{
"cell_type": "code",
"execution_count": 10,
"metadata": {
"colab": {
"base_uri": "https://localhost:8080/",
"height": 195
},
"id": "cDt2vZKtPK0I",
"outputId": "f8c42d99-5e09-4b49-a25e-3f1b37d86c8d"
},
"outputs": [
{
"data": {
"text/html": [
"<div>\n",
"<style scoped>\n",
"    .dataframe tbody tr th:only-of-type {\n",
"        vertical-align: middle;\n",
"    }\n",
"\n",
"    .dataframe tbody tr th {\n",
"        vertical-align: top;\n",
"    }\n",
"\n",
"    .dataframe thead th {\n",
"        text-align: right;\n",
"    }\n",
"</style>\n",
"<table border=\"1\" class=\"dataframe\">\n",
"  <thead>\n",
"    <tr style=\"text-align: right;\">\n",
"      <th></th>\n",
"      <th>title</th>\n",
"      <th>text</th>\n",
"      <th>subject</th>\n",
"      <th>date</th>\n",
"      <th>target</th>\n",
"    </tr>\n",
"  </thead>\n",
"  <tbody>\n",
"    <tr>\n",
"      <th>0</th>\n",
"      <td>Donald Trump Sends Out Embarrassing New Year’...</td>\n",
"      <td>Donald Trump just couldn t wish all Americans ...</td>\n",
"      <td>News</td>\n",
"      <td>December 31, 2017</td>\n",
"      <td>0</td>\n",
"    </tr>\n",
"    <tr>\n",
"      <th>1</th>\n",
"      <td>Drunk Bragging Trump Staffer Started Russian ...</td>\n",
"      <td>House Intelligence Committee Chairman Devin Nu...</td>\n",
"      <td>News</td>\n",
"      <td>December 31, 2017</td>\n",
"      <td>0</td>\n",
"    </tr>\n",
"    <tr>\n",
"      <th>2</th>\n",
"      <td>Sheriff David Clarke Becomes An Internet Joke...</td>\n",
"      <td>On Friday, it was revealed that former Milwauk...</td>\n",
"      <td>News</td>\n",
"      <td>December 30, 2017</td>\n",
"      <td>0</td>\n",
"    </tr>\n",
"    <tr>\n",
"      <th>3</th>\n",
"      <td>Trump Is So Obsessed He Even Has Obama’s Name...</td>\n",
"      <td>On Christmas day, Donald Trump announced that ...</td>\n",
"      <td>News</td>\n",
"      <td>December 29, 2017</td>\n",
"      <td>0</td>\n",
"    </tr>\n",
"    <tr>\n",
"      <th>4</th>\n",
"      <td>Pope Francis Just Called Out Donald Trump Dur...</td>\n",
"      <td>Pope Francis used his annual Christmas Day mes...</td>\n",
"      <td>News</td>\n",
"      <td>December 25, 2017</td>\n",
"      <td>0</td>\n",
"    </tr>\n",
"  </tbody>\n",
"</table>\n",
"</div>"
],
"text/plain": [
"                                               title  \\\n",
"0   Donald Trump Sends Out Embarrassing New Year’...   \n",
"1   Drunk Bragging Trump Staffer Started Russian ...   \n",
"2   Sheriff David Clarke Becomes An Internet Joke...   \n",
"3   Trump Is So Obsessed He Even Has Obama’s Name...   \n",
"4   Pope Francis Just Called Out Donald Trump Dur...   \n",
"\n",
"                                                text subject  \\\n",
"0  Donald Trump just couldn t wish all Americans ...    News   \n",
"1  House Intelligence Committee Chairman Devin Nu...    News   \n",
"2  On Friday, it was revealed that former Milwauk...    News   \n",
"3  On Christmas day, Donald Trump announced that ...    News   \n",
"4  Pope Francis used his annual Christmas Day mes...    News   \n",
"\n",
"                date  target  \n",
"0  December 31, 2017       0  \n",
"1  December 31, 2017       0  \n",
"2  December 30, 2017       0  \n",
"3  December 29, 2017       0  \n",
"4  December 25, 2017       0  "
]
},
"metadata": {},
"output_type": "display_data"
}
],
"source": [
"display(fake.head())"
]
},
{
"cell_type": "code",
"execution_count": 11,
"metadata": {
"colab": {
"base_uri": "https://localhost:8080/",
"height": 195
},
"id": "XGv7vLkNPK0K",
"outputId": "0caf05a9-25cb-4345-a1bb-d3874d99c2e9"
},
"outputs": [
{
"data": {
"text/html": [
"<div>\n",
"<style scoped>\n",
"    .dataframe tbody tr th:only-of-type {\n",
"        vertical-align: middle;\n",
"    }\n",
"\n",
"    .dataframe tbody tr th {\n",
"        vertical-align: top;\n",
"    }\n",
"\n",
"    .dataframe thead th {\n",
"        text-align: right;\n",
"    }\n",
"</style>\n",
"<table border=\"1\" class=\"dataframe\">\n",
"  <thead>\n",
"    <tr style=\"text-align: right;\">\n",
"      <th></th>\n",
"      <th>title</th>\n",
"      <th>text</th>\n",
"      <th>subject</th>\n",
"      <th>date</th>\n",
"      <th>target</th>\n",
"    </tr>\n",
"  </thead>\n",
"  <tbody>\n",
"    <tr>\n",
"      <th>0</th>\n",
"      <td>As U.S. budget fight looms, Republicans flip t...</td>\n",
"      <td>WASHINGTON (Reuters) - The head of a conservat...</td>\n",
"      <td>politicsNews</td>\n",
"      <td>December 31, 2017</td>\n",
"      <td>1</td>\n",
"    </tr>\n",
"    <tr>\n",
"      <th>1</th>\n",
"      <td>U.S. military to accept transgender recruits o...</td>\n",
"      <td>WASHINGTON (Reuters) - Transgender people will...</td>\n",
"      <td>politicsNews</td>\n",
"      <td>December 29, 2017</td>\n",
"      <td>1</td>\n",
"    </tr>\n",
"    <tr>\n",
"      <th>2</th>\n",
"      <td>Senior U.S. Republican senator: 'Let Mr. Muell...</td>\n",
"      <td>WASHINGTON (Reuters) - The special counsel inv...</td>\n",
"      <td>politicsNews</td>\n",
"      <td>December 31, 2017</td>\n",
"      <td>1</td>\n",
"    </tr>\n",
"    <tr>\n",
"      <th>3</th>\n",
"      <td>FBI Russia probe helped by Australian diplomat...</td>\n",
"      <td>WASHINGTON (Reuters) - Trump campaign adviser ...</td>\n",
"      <td>politicsNews</td>\n",
"      <td>December 30, 2017</td>\n",
"      <td>1</td>\n",
"    </tr>\n",
"    <tr>\n",
"      <th>4</th>\n",
"      <td>Trump wants Postal Service to charge 'much mor...</td>\n",
"      <td>SEATTLE/WASHINGTON (Reuters) - President Donal...</td>\n",
"      <td>politicsNews</td>\n",
"      <td>December 29, 2017</td>\n",
"      <td>1</td>\n",
"    </tr>\n",
"  </tbody>\n",
"</table>\n",
"</div>"
],
"text/plain": [
"                                               title  \\\n",
"0  As U.S. budget fight looms, Republicans flip t...   \n",
"1  U.S. military to accept transgender recruits o...   \n",
"2  Senior U.S. Republican senator: 'Let Mr. Muell...   \n",
"3  FBI Russia probe helped by Australian diplomat...   \n",
"4  Trump wants Postal Service to charge 'much mor...   \n",
"\n",
"                                                text       subject  \\\n",
"0  WASHINGTON (Reuters) - The head of a conservat...  politicsNews   \n",
"1  WASHINGTON (Reuters) - Transgender people will...  politicsNews   \n",
"2  WASHINGTON (Reuters) - The special counsel inv...  politicsNews   \n",
"3  WASHINGTON (Reuters) - Trump campaign adviser ...  politicsNews   \n",
"4  SEATTLE/WASHINGTON (Reuters) - President Donal...  politicsNews   \n",
"\n",
"                 date  target  \n",
"0  December 31, 2017        1  \n",
"1  December 29, 2017        1  \n",
"2  December 31, 2017        1  \n",
"3  December 30, 2017        1  \n",
"4  December 29, 2017        1  "
]
},
"metadata": {},
"output_type": "display_data"
}
],
"source": [
"display(genuine.head())"
]
},
{
"cell_type": "code",
"execution_count": 12,
"metadata": {
"id": "-_QaBTNxPK0L"
},
"outputs": [],
"source": [
"data = pd.concat([fake, genuine], axis=0)"
]
},
{
"cell_type": "code",
"execution_count": 13,
"metadata": {
"colab": {
"base_uri": "https://localhost:8080/"
},
"id": "ePFaCJwhPK0Q",
"outputId": "61f3d858-4f13-4205-d91e-3170dadc027c"
},
"outputs": [],
"source": [
"data = data.reset_index(drop=True)"
]
},
{
"cell_type": "code",
"execution_count": 14,
"metadata": {
"id": "wJlkRmtJPK0R"
},
"outputs": [],
"source": [
"data=data.drop(['subject','date','title'], axis=1)"
]
},
{
"cell_type": "code",
"execution_count": 15,
"metadata": {
"colab": {
"base_uri": "https://localhost:8080/"
},
"id": "7bAWiNtNPK0T",
"outputId": "ff352b4f-f0a6-494b-831a-81f1e48e4626"
},
"outputs": [
{
"name": "stdout",
"output_type": "stream",
"text": [
"Index(['text', 'target'], dtype='object')\n",
"                                                    text  target\n",
"0      Donald Trump just couldn t wish all Americans ...       0\n",
"1      House Intelligence Committee Chairman Devin Nu...       0\n",
"2      On Friday, it was revealed that former Milwauk...       0\n",
"3      On Christmas day, Donald Trump announced that ...       0\n",
"4      Pope Francis used his annual Christmas Day mes...       0\n",
"...                                                  ...     ...\n",
"44893  BRUSSELS (Reuters) - NATO allies on Tuesday we...       1\n",
"44894  LONDON (Reuters) - LexisNexis, a provider of l...       1\n",
"44895  MINSK (Reuters) - In the shadow of disused Sov...       1\n",
"44896  MOSCOW (Reuters) - Vatican Secretary of State ...       1\n",
"44897  JAKARTA (Reuters) - Indonesia will buy 11 Sukh...       1\n",
"\n",
"[44898 rows x 2 columns]\n"
]
}
],
"source": [
"print(data.columns)\n",
"print(data)"
]
},
{
"cell_type": "markdown",
"metadata": {},
"source": [
"##  TOKENIZATION"
]
},
{
"cell_type": "code",
"execution_count": 16,
"metadata": {
"id": "2Mrlg6PBPK0U"
},
"outputs": [],
"source": [
"from nltk.tokenize import word_tokenize\n",
"data['text']=data['text'].apply(word_tokenize)"
]
},
{
"cell_type": "code",
"execution_count": 17,
"metadata": {
"id": "YhLzrJtkPK0U"
},
"outputs": [
{
"name": "stdout",
"output_type": "stream",
"text": [
"                                                text  target\n",
"0  [Donald, Trump, just, couldn, t, wish, all, Am...       0\n",
"1  [House, Intelligence, Committee, Chairman, Dev...       0\n",
"2  [On, Friday, ,, it, was, revealed, that, forme...       0\n",
"3  [On, Christmas, day, ,, Donald, Trump, announc...       0\n",
"4  [Pope, Francis, used, his, annual, Christmas, ...       0\n",
"5  [The, number, of, cases, of, cops, brutalizing...       0\n",
"6  [Donald, Trump, spent, a, good, portion, of, h...       0\n",
"7  [In, the, wake, of, yet, another, court, decis...       0\n",
"8  [Many, people, have, raised, the, alarm, regar...       0\n",
"9  [Just, when, you, might, have, thought, we, d,...       0\n"
]
}
],
"source": [
"print(data.head(10))"
]
},
{
"cell_type": "markdown",
"metadata": {},
"source": [
"## STEMMING "
]
},
{
"cell_type": "code",
"execution_count": 18,
"metadata": {},
"outputs": [],
"source": [
"from nltk.stem.snowball import SnowballStemmer\n",
"porter = SnowballStemmer(\"english\", ignore_stopwords=False)"
]
},
{
"cell_type": "code",
"execution_count": 19,
"metadata": {},
"outputs": [],
"source": [
"def stem_it(text):\n",
"    return [porter.stem(word) for word in text]"
]
},
{
"cell_type": "code",
"execution_count": 20,
"metadata": {},
"outputs": [],
"source": [
"data['text']=data['text'].apply(stem_it)"
]
},
{
"cell_type": "code",
"execution_count": 21,
"metadata": {},
"outputs": [
{
"name": "stdout",
"output_type": "stream",
"text": [
"                                                text  target\n",
"0  [donald, trump, just, couldn, t, wish, all, am...       0\n",
"1  [hous, intellig, committe, chairman, devin, nu...       0\n",
"2  [on, friday, ,, it, was, reveal, that, former,...       0\n",
"3  [on, christma, day, ,, donald, trump, announc,...       0\n",
"4  [pope, franci, use, his, annual, christma, day...       0\n",
"5  [the, number, of, case, of, cop, brutal, and, ...       0\n",
"6  [donald, trump, spent, a, good, portion, of, h...       0\n",
"7  [in, the, wake, of, yet, anoth, court, decis, ...       0\n",
"8  [mani, peopl, have, rais, the, alarm, regard, ...       0\n",
"9  [just, when, you, might, have, thought, we, d,...       0\n"
]
}
],
"source": [
"print(data.head(10))"
]
},
{
"cell_type": "markdown",
"metadata": {},
"source": [
"## Stopword removal"
]
},
{
"cell_type": "code",
"execution_count": 22,
"metadata": {
"id": "fbzNcZm_PK0W"
},
"outputs": [],
"source": [
"#import nltk\n",
"#from nltk.corpus import stopwords\n",
"#nltk.download('stopwords')\n",
"#print(stopwords.words('english'))"
]
},
{
"cell_type": "code",
"execution_count": 23,
"metadata": {
"id": "YHZkMZZMPK0X"
},
"outputs": [],
"source": [
"def stop_it(t):\n",
"    dt = [word for word in t if len(word)>2] \n",
"    return dt"
]
},
{
"cell_type": "code",
"execution_count": 24,
"metadata": {
"id": "363-tQQob5GQ"
},
"outputs": [],
"source": [
"data['text']=data['text'].apply(stop_it)"
]
},
{
"cell_type": "code",
"execution_count": 25,
"metadata": {
"colab": {
"base_uri": "https://localhost:8080/"
},
"id": "OAaO0ng9PK0Y",
"outputId": "28d2523c-06d2-46e7-cbfd-beccc651e44c"
},
"outputs": [
{
"name": "stdout",
"output_type": "stream",
"text": [
"0    [donald, trump, just, couldn, wish, all, ameri...\n",
"1    [hous, intellig, committe, chairman, devin, nu...\n",
"2    [friday, was, reveal, that, former, milwauke, ...\n",
"3    [christma, day, donald, trump, announc, that, ...\n",
"4    [pope, franci, use, his, annual, christma, day...\n",
"5    [the, number, case, cop, brutal, and, kill, pe...\n",
"6    [donald, trump, spent, good, portion, his, day...\n",
"7    [the, wake, yet, anoth, court, decis, that, de...\n",
"8    [mani, peopl, have, rais, the, alarm, regard, ...\n",
"9    [just, when, you, might, have, thought, get, b...\n",
"Name: text, dtype: object\n"
]
}
],
"source": [
"print(data['text'].head(10))"
]
},
{
"cell_type": "code",
"execution_count": 26,
"metadata": {
"id": "KLwIzZxtPK0Y"
},
"outputs": [],
"source": [
"data['text']=data['text'].apply(' '.join)"
]
},
{
"cell_type": "markdown",
"metadata": {
"id": "NozuZVfpPK0Z"
},
"source": [
"## Splitting up of data "
]
},
{
"cell_type": "code",
"execution_count": 27,
"metadata": {
"colab": {
"base_uri": "https://localhost:8080/",
"height": 252
},
"id": "XK9io6KuPK0Z",
"outputId": "3967d3c7-82cc-4dca-e1f9-671c1df96b46"
},
"outputs": [
{
"data": {
"text/plain": [
"13950    admir ace lyon has warn all befor viral video ...\n",
"35927    unit nation reuter unit nation polit affair ch...\n",
"10       centerpiec donald trump campaign and now his p...\n",
"36658    brussel reuter ride-hail app uber uber.ul said...\n",
"43628    london reuter prime minist theresa may will ma...\n",
"Name: text, dtype: object"
]
},
"metadata": {},
"output_type": "display_data"
},
{
"name": "stdout",
"output_type": "stream",
"text": [
"\n",
"\n"
]
},
{
"data": {
"text/plain": [
"13950    0\n",
"35927    1\n",
"10       0\n",
"36658    1\n",
"43628    1\n",
"Name: target, dtype: int64"
]
},
"metadata": {},
"output_type": "display_data"
}
],
"source": [
"from sklearn.model_selection import train_test_split\n",
"X_train, X_test, y_train, y_test = train_test_split(data['text'], data['target'], test_size=0.25)\n",
"display(X_train.head())\n",
"print('\\n')\n",
"display(y_train.head())"
]
},
{
"cell_type": "markdown",
"metadata": {},
"source": [
"## Vectorization"
]
},
{
"cell_type": "code",
"execution_count": 28,
"metadata": {
"id": "1pcEqE7HPK0a"
},
"outputs": [],
"source": [
"from sklearn.feature_extraction.text import TfidfVectorizer\n",
"my_tfidf = TfidfVectorizer( max_df=0.7)\n",
"\n",
"tfidf_train = my_tfidf.fit_transform(X_train)\n",
"tfidf_test = my_tfidf.transform(X_test)\n"
]
},
{
"cell_type": "code",
"execution_count": 29,
"metadata": {},
"outputs": [
{
"name": "stdout",
"output_type": "stream",
"text": [
"  (0, 86600)\t0.013541003003453912\n",
"  (0, 57090)\t0.04099143784829829\n",
"  (0, 69118)\t0.016797116871286415\n",
"  (0, 73562)\t0.019614717567229326\n",
"  (0, 32082)\t0.03740381099135822\n",
"  (0, 61623)\t0.028290630664270303\n",
"  (0, 69417)\t0.025854519013379137\n",
"  (0, 43093)\t0.023019075387320776\n",
"  (0, 60012)\t0.03268921050295411\n",
"  (0, 59648)\t0.03320854730222363\n",
"  (0, 81053)\t0.010111031814306313\n",
"  (0, 86855)\t0.02198033861698575\n",
"  (0, 81236)\t0.009313061122614126\n",
"  (0, 25225)\t0.02870804355425785\n",
"  (0, 21250)\t0.03876189425093834\n",
"  (0, 75127)\t0.03139357309100047\n",
"  (0, 68848)\t0.01867788068820962\n",
"  (0, 81390)\t0.014345431620169047\n",
"  (0, 75120)\t0.02995821784611339\n",
"  (0, 64745)\t0.018167295919180235\n",
"  (0, 81099)\t0.014729602248560418\n",
"  (0, 41639)\t0.0305736751604124\n",
"  (0, 63085)\t0.028580512341534584\n",
"  (0, 50157)\t0.025721405848588265\n",
"  (0, 85150)\t0.03441320164849215\n",
"  :\t:\n",
"  (33672, 41182)\t0.016534754220343537\n",
"  (33672, 35179)\t0.03174175999260142\n",
"  (33672, 86463)\t0.019108847087721533\n",
"  (33672, 65303)\t0.048736546042470116\n",
"  (33672, 68136)\t0.024420942086444877\n",
"  (33672, 90498)\t0.054553409988412176\n",
"  (33672, 73840)\t0.029849734614119834\n",
"  (33672, 61251)\t0.04346579465790915\n",
"  (33672, 13382)\t0.038192488103148604\n",
"  (33672, 37732)\t0.030857579806955453\n",
"  (33672, 64933)\t0.021090022213053616\n",
"  (33672, 81153)\t0.014522976471563821\n",
"  (33672, 89588)\t0.02482950173938943\n",
"  (33672, 22307)\t0.1137416664303399\n",
"  (33672, 81317)\t0.01071030787872962\n",
"  (33672, 78039)\t0.022825088996520932\n",
"  (33672, 9367)\t0.03356742430887422\n",
"  (33672, 60415)\t0.013245748904520382\n",
"  (33672, 37357)\t0.04520302033179714\n",
"  (33672, 88546)\t0.05694066906074987\n",
"  (33672, 61085)\t0.01618529901388978\n",
"  (33672, 38876)\t0.07905939447116135\n",
"  (33672, 7162)\t0.0494351203210221\n",
"  (33672, 8875)\t0.02782074313179929\n",
"  (33672, 37593)\t0.06173851638911829\n"
]
}
],
"source": [
"print(tfidf_train)"
]
},
{
"cell_type": "markdown",
"metadata": {},
"source": [
"## LogisticRegression"
]
},
{
"cell_type": "code",
"execution_count": 30,
"metadata": {},
"outputs": [],
"source": [
"from sklearn.linear_model import LogisticRegression\n",
"from sklearn.metrics import accuracy_score"
]
},
{
"cell_type": "code",
"execution_count": 31,
"metadata": {},
"outputs": [
{
"name": "stderr",
"output_type": "stream",
"text": [
"C:\\Users\\JAHNAVI\\Anaconda3\\lib\\site-packages\\sklearn\\linear_model\\logistic.py:433: FutureWarning: Default solver will be changed to 'lbfgs' in 0.22. Specify a solver to silence this warning.\n",
"  FutureWarning)\n"
]
},
{
"name": "stdout",
"output_type": "stream",
"text": [
"98.7706013363029\n"
]
}
],
"source": [
"model_1 = LogisticRegression(max_iter=900)\n",
"model_1.fit(tfidf_train, y_train)\n",
"pred_1 = model_1.predict(tfidf_test)\n",
"cr1    = accuracy_score(y_test,pred_1)\n",
"print(cr1*100)"
]
},
{
"cell_type": "markdown",
"metadata": {},
"source": [
"## PassiveAggressiveClassifier"
]
},
{
"cell_type": "code",
"execution_count": 32,
"metadata": {
"colab": {
"base_uri": "https://localhost:8080/"
},
"id": "_Y1GosfwPK0b",
"outputId": "60dc4d9e-33da-4845-8409-d77876a9f6e5"
},
"outputs": [
{
"name": "stderr",
"output_type": "stream",
"text": [
"C:\\Users\\JAHNAVI\\Anaconda3\\lib\\site-packages\\sklearn\\linear_model\\stochastic_gradient.py:183: FutureWarning: max_iter and tol parameters have been added in PassiveAggressiveClassifier in 0.19. If max_iter is set but tol is left unset, the default value for tol in 0.19 and 0.20 will be None (which is equivalent to -infinity, so it has no effect) but will change in 0.21 to 1e-3. Specify tol to silence this warning.\n",
"  FutureWarning)\n"
]
},
{
"data": {
"text/plain": [
"PassiveAggressiveClassifier(C=1.0, average=False, class_weight=None,\n",
"              early_stopping=False, fit_intercept=True, loss='hinge',\n",
"              max_iter=50, n_iter=None, n_iter_no_change=5, n_jobs=None,\n",
"              random_state=None, shuffle=True, tol=None,\n",
"              validation_fraction=0.1, verbose=0, warm_start=False)"
]
},
"execution_count": 32,
"metadata": {},
"output_type": "execute_result"
}
],
"source": [
"from sklearn.linear_model import PassiveAggressiveClassifier\n",
"\n",
"model = PassiveAggressiveClassifier(max_iter=50)\n",
"model.fit(tfidf_train, y_train)"
]
},
{
"cell_type": "code",
"execution_count": 33,
"metadata": {
"colab": {
"base_uri": "https://localhost:8080/"
},
"id": "uU8r6tQCPK0b",
"outputId": "b1be19a3-1423-47bb-8648-d1b0e9354768"
},
"outputs": [
{
"name": "stdout",
"output_type": "stream",
"text": [
"The accuracy of prediction is  99.56347438752783\n"
]
}
],
"source": [
"y_pred = model.predict(tfidf_test)\n",
"accscore = accuracy_score(y_test, y_pred)\n",
"print('The accuracy of prediction is ',accscore*100)"
]
},
{
"cell_type": "code",
"execution_count": null,
"metadata": {},
"outputs": [],
"source": []
}
],
"metadata": {
"colab": {
"name": "fake news detection.ipynb",
"provenance": []
},
"kernelspec": {
"display_name": "Python 3",
"language": "python",
"name": "python3"
},
"language_info": {
"codemirror_mode": {
"name": "ipython",
"version": 3
},
"file_extension": ".py",
"mimetype": "text/x-python",
"name": "python",
"nbconvert_exporter": "python",
"pygments_lexer": "ipython3",
"version": "3.7.3"
}
},
"nbformat": 4,
"nbformat_minor": 1
}
